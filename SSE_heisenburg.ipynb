{
  "cells": [
    {
      "cell_type": "markdown",
      "source": [
        "# Stochastic Series Expansion (SSE)"
      ],
      "metadata": {
        "id": "kUIgLktc8xie"
      }
    },
    {
      "cell_type": "markdown",
      "source": [
        "This is an simple code adopted from [Prof. Anders W. Sandvik](https://physics.bu.edu/~sandvik/) for simulating the Heisenberg model on square lattice."
      ],
      "metadata": {
        "id": "duBkfeSK82Be"
      }
    },
    {
      "cell_type": "markdown",
      "source": [
        "Starting from the Taylor expansion  $ e^ {-\\beta H} $ = $ \\sum _ {i=1}^ {\\infty } $ $ \\frac {(-\\beta )^ {n}}{n!} $ $ H^ {n} $, the partition function is then written as:\n",
        "$$\n",
        "Z_ {SSE} = \\sum _ {n=0}^ {\\infty }  \\frac {\\beta ^ {n}}{n!} \\sum _ {\\{\\alpha\\} _n}{\\langle\\alpha _ {0}|H|\\alpha _ {n-1}}\\rangle\\cdots  \\langle  \\alpha _ {2}  |H  | \\alpha _ {1} \\rangle \\langle  \\alpha _ {1}  |H |  \\alpha _ {0}\\rangle ,\n",
        "$$\n",
        "where $\\{\\alpha\\}_n$ denotes a complete set of states."
      ],
      "metadata": {
        "id": "qdEohtiPNyV7"
      }
    },
    {
      "cell_type": "code",
      "execution_count": null,
      "metadata": {
        "id": "FEBcID-A8jmx"
      },
      "outputs": [],
      "source": [
        "import numpy as np\n",
        "import time\n",
        "import matplotlib.pyplot as plt\n"
      ]
    },
    {
      "cell_type": "code",
      "execution_count": null,
      "metadata": {
        "id": "saYwyFpc8jmy"
      },
      "outputs": [],
      "source": [
        "def init_config(nn):\n",
        "    global spin\n",
        "    spin = [0]*nn\n",
        "\n",
        "    for i in range(nn):\n",
        "        spin[i] = 2*int(2*np.random.random())-1\n",
        "\n",
        "    global mm\n",
        "    mm = 20\n",
        "\n",
        "    global opstring,nh\n",
        "    opstring = [0]*mm\n",
        "    nh = 0\n",
        "\n",
        "\n"
      ]
    },
    {
      "cell_type": "code",
      "execution_count": null,
      "metadata": {
        "id": "O0EfWx-l8jmy"
      },
      "outputs": [],
      "source": [
        "def makelattice():\n",
        "    global nn,nb,lx,ly,bsites\n",
        "    nn = lx * ly\n",
        "\n",
        "    if ly!=1:\n",
        "        nb = 2*nn\n",
        "        bsites = np.array([[0]*nb,[0]*nb])\n",
        "\n",
        "        for y1 in range(0,ly):\n",
        "            for x1 in range(0,lx):\n",
        "                s = 1+x1+y1*lx\n",
        "                x2 = np.mod(x1+1,lx)\n",
        "                y2 = y1\n",
        "                bsites[0][s-1] = s\n",
        "                bsites[1][s-1] = 1+x2+y2*lx\n",
        "                x2 = x1\n",
        "                y2 = np.mod(y1+1,ly)\n",
        "                bsites[0][s+nn-1] = s\n",
        "                bsites[1][s+nn-1] = 1+x2+y2*lx\n",
        "    else:\n",
        "        nn = lx\n",
        "        nb = nn\n",
        "        bsites = np.array([[0]*nb,[0]*nb])\n",
        "\n",
        "        for x1 in range(lx):\n",
        "            bsites[0][x1] = x1+1\n",
        "            bsites[1][x1] = 1+x1+1\n",
        "\n",
        "        bsites[1][lx-1] = 1\n"
      ]
    },
    {
      "cell_type": "code",
      "execution_count": null,
      "metadata": {
        "id": "ZzB6iO2A8jmy"
      },
      "outputs": [],
      "source": [
        "def adjustcutoff():\n",
        "    global mm,opstring\n",
        "    mmnew = nh+nh//3\n",
        "    if mmnew <= mm:\n",
        "        return\n",
        "    diff = mmnew-mm\n",
        "    mm = mmnew\n",
        "    opstring.extend([0]*(diff))"
      ]
    },
    {
      "cell_type": "code",
      "execution_count": null,
      "metadata": {
        "id": "LWf8DVP98jmz"
      },
      "outputs": [],
      "source": [
        "def diagonalupdate():\n",
        "\n",
        "    global spin,mm,nb,nh,aprob,dprob\n",
        "\n",
        "    for i in range(mm):\n",
        "        op = opstring[i]\n",
        "        if op == 0:\n",
        "            b = min(int(np.random.random()*nb)+1,nb)\n",
        "            if spin[int(bsites[0][b-1])-1] != spin[int(bsites[1][b-1])-1]:\n",
        "                if (aprob >= mm-nh) or (aprob >= np.random.random()*(mm-nh)):\n",
        "                    opstring[i] = 2*b\n",
        "                    nh += 1\n",
        "        elif np.mod(op,2) == 0:\n",
        "            p = dprob*(mm-nh+1)\n",
        "            if (p >= 1 ) or (p>=np.random.random()):\n",
        "                opstring[i] = 0\n",
        "                nh -= 1\n",
        "        else:\n",
        "            b = op//2\n",
        "            spin[int(bsites[0][b-1])-1] = -spin[int(bsites[0][b-1])-1]\n",
        "            spin[int(bsites[1][b-1])-1] = -spin[int(bsites[1][b-1])-1]\n",
        "\n"
      ]
    },
    {
      "cell_type": "code",
      "execution_count": null,
      "metadata": {
        "id": "2VRDnZoN8jmz"
      },
      "outputs": [],
      "source": [
        "def loopupdate():\n",
        "    global vertexlist,frstspinop,lastspinop,opstring,bsites,spin,mm,nn\n",
        "\n",
        "    frstspinop = [0]*nn\n",
        "    lastspinop = [0]*nn\n",
        "    vertexlist = [0]*(4*mm)\n",
        "\n",
        "    for i in range(nn):\n",
        "        frstspinop[i] = -1\n",
        "        lastspinop[i] = -1\n",
        "\n",
        "    for v0 in np.arange(0,4*mm,4):\n",
        "        op = opstring[v0//4]\n",
        "        if op != 0:\n",
        "            b = op//2\n",
        "            s1 = bsites[0][b-1]\n",
        "            s2 = bsites[1][b-1]\n",
        "            v1 = lastspinop[s1-1]\n",
        "            v2 = lastspinop[s2-1]\n",
        "            if v1 != -1:\n",
        "                vertexlist[v1] = v0\n",
        "                vertexlist[v0] = v1\n",
        "            else:\n",
        "                frstspinop[s1-1] = v0\n",
        "\n",
        "            if v2!=-1:\n",
        "                vertexlist[v2] = v0+1\n",
        "                vertexlist[v0+1] = v2\n",
        "            else:\n",
        "                frstspinop[s2-1] = v0+1\n",
        "\n",
        "            lastspinop[s1-1] = v0+2\n",
        "            lastspinop[s2-1] = v0+3\n",
        "        else:\n",
        "            for i in np.arange(v0,v0+4):\n",
        "                vertexlist[i] = 0\n",
        "\n",
        "    for sn in np.arange(0,nn): #sn is the spin number from 0 to nn-1\n",
        "        v1 = frstspinop[sn]\n",
        "        if v1!=-1:\n",
        "            v2 = lastspinop[sn]\n",
        "            vertexlist[v2] = v1\n",
        "            vertexlist[v1] = v2\n",
        "\n",
        "    for v0 in np.arange(0,4*mm,2):\n",
        "        if vertexlist[v0]<1:\n",
        "            continue\n",
        "        v1 = v0\n",
        "        if np.random.random()<0.5:\n",
        "            while True:\n",
        "                opstring[v1//4] = opstring[v1//4]^1\n",
        "                vertexlist[v1] = -1\n",
        "                v2 = v1^1\n",
        "                v1 = vertexlist[v2]\n",
        "                vertexlist[v2] = -1\n",
        "                if v1==v0:\n",
        "                    break\n",
        "        else:\n",
        "            while True:\n",
        "                vertexlist[v1]=0\n",
        "                v2 = v1^1\n",
        "                v1 = vertexlist[v2]\n",
        "                vertexlist[v2] = 0\n",
        "                if v1==v0:\n",
        "                    break\n",
        "    for i in range(nn):\n",
        "        if frstspinop[i]!=-1:\n",
        "            if vertexlist[int(frstspinop[i])]==-1:\n",
        "                spin[i] = -spin[i]\n",
        "        else:\n",
        "            if np.random.random()<0.5:\n",
        "                spin[i] = -spin[i]\n",
        "\n",
        "\n",
        "\n"
      ]
    },
    {
      "cell_type": "code",
      "execution_count": null,
      "metadata": {
        "id": "FMKbKR_J8jmz"
      },
      "outputs": [],
      "source": [
        "def measureobservables():\n",
        "    global enrg1,enrg2,amag1,amag2,am1,am2,ax1,opstring,bsites,spin,mm,nn\n",
        "    am =0\n",
        "    for i in range(nn):\n",
        "        am = am+spin[i]*(-1)**(np.mod(i,lx)+i//lx)\n",
        "    am = am/2\n",
        "    am1 = 0.0\n",
        "    am2 = 0.0\n",
        "    ax1 = 0.0\n",
        "\n",
        "    for i in range(mm):\n",
        "        op = opstring[i]\n",
        "        if op ==0:\n",
        "            continue\n",
        "        elif np.mod(op,2) ==1:\n",
        "            b = op//2\n",
        "            s1 = bsites[0][b-1]\n",
        "            s2 = bsites[1][b-1]\n",
        "            spin[s1-1] = -spin[s1-1]\n",
        "            spin[s2-1] = -spin[s2-1]\n",
        "            am = am+2*spin[s1-1]*(-1)**(np.mod(s1-1,lx)+(s1-1)//lx)\n",
        "        ax1 = ax1+float(am)\n",
        "        am1 = am1+float(abs(am))\n",
        "        am2 = am2+float(am)**2\n",
        "\n",
        "    if nh!=0:\n",
        "        ax1 = (ax1**2+am2)/(float(nh)*float(nh+1))\n",
        "        am1 = am1/nh\n",
        "        am2 = am2/nh\n",
        "    else:\n",
        "        am1 = float(abs(am))\n",
        "        am2 = float(am)**2\n",
        "        ax1 = am2\n",
        "\n"
      ]
    },
    {
      "cell_type": "code",
      "execution_count": null,
      "metadata": {
        "scrolled": true,
        "id": "ky66sd5x8jmz",
        "outputId": "71e321ed-67e5-407d-8d91-c431c433e265",
        "colab": {
          "base_uri": "https://localhost:8080/"
        }
      },
      "outputs": [
        {
          "output_type": "stream",
          "name": "stdout",
          "text": [
            "bin: 1\n",
            "bin: 2\n",
            "bin: 3\n",
            "bin: 4\n",
            "bin: 5\n",
            "bin: 6\n",
            "bin: 7\n",
            "bin: 8\n",
            "bin: 9\n",
            "bin: 10\n",
            "Running time: 29.01471185684204\n",
            "E: -0.45647265625\n",
            "err: 0.0008489840550806885\n"
          ]
        }
      ],
      "source": [
        "#main\n",
        "start = time.time()\n",
        "\n",
        "lx,ly = 8,1\n",
        "beta=16\n",
        "nbin=10\n",
        "\n",
        "E_lst = []\n",
        "E_err = []\n",
        "\n",
        "makelattice()\n",
        "init_config(nn)\n",
        "\n",
        "aprob = 0.5*beta*nb\n",
        "dprob = 1.0/(0.5*beta*nb)\n",
        "\n",
        "nh_lst = []\n",
        "nh_mc = []\n",
        "dis = []\n",
        "\n",
        "eqstep = 2000\n",
        "mcstep = 20000\n",
        "nbin = 10\n",
        "bin_step = mcstep//nbin\n",
        "\n",
        "for i in range(eqstep):\n",
        "    diagonalupdate()\n",
        "    loopupdate()\n",
        "    adjustcutoff()\n",
        "\n",
        "\n",
        "for i in range(mcstep):\n",
        "    diagonalupdate()\n",
        "    loopupdate()\n",
        "    nh_mc.append(nh)\n",
        "    dis.append(nh)\n",
        "    if (i+1)%(bin_step) == 0:\n",
        "        print(\"bin:\",(i+1)//bin_step)\n",
        "        nh_lst.append(np.mean(nh_mc))\n",
        "        nh_mc = []\n",
        "\n",
        "\n",
        "E = -(np.mean(nh_lst)/(beta*nn)-nb/(4*nn))\n",
        "err = np.std(nh_lst)/(beta*nn)/np.sqrt(nbin)\n",
        "E_lst.append(E)\n",
        "E_err.append(err)\n",
        "\n",
        "end = time.time()\n",
        "print(\"Running time:\", end-start)\n",
        "print(\"E:\",E_lst[0])\n",
        "print(\"err:\",E_err[0])\n",
        "\n"
      ]
    },
    {
      "cell_type": "code",
      "execution_count": null,
      "metadata": {
        "id": "52DUtno58jm0"
      },
      "outputs": [],
      "source": []
    }
  ],
  "metadata": {
    "kernelspec": {
      "display_name": "Python 3 (ipykernel)",
      "language": "python",
      "name": "python3"
    },
    "language_info": {
      "codemirror_mode": {
        "name": "ipython",
        "version": 3
      },
      "file_extension": ".py",
      "mimetype": "text/x-python",
      "name": "python",
      "nbconvert_exporter": "python",
      "pygments_lexer": "ipython3",
      "version": "3.9.12"
    },
    "colab": {
      "provenance": []
    }
  },
  "nbformat": 4,
  "nbformat_minor": 0
}